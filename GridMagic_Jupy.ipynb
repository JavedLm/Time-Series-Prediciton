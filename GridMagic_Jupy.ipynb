{
 "cells": [
  {
   "cell_type": "code",
   "execution_count": null,
   "metadata": {},
   "outputs": [],
   "source": [
    "import pandas as pd\n",
    "import numpy as np\n",
    "import rainflow\n",
    "import matplotlib.pyplot as plt\n",
    "from collections import defaultdict\n",
    "\n",
    "# Step 1: Load and prepare the data\n",
    "df = pd.read_csv('C:/Users/Javed Khan/Downloads/Simulink-Makro_neuStepSize/Ergebnisse_Simulink-Makro_0.5-W_Wochenendenfahrzeug_Winter.csv')\n",
    "print(df.head())\n",
    "print(df.info())"
   ]
  },
  {
   "cell_type": "code",
   "execution_count": null,
   "metadata": {},
   "outputs": [],
   "source": [
    "# Creating a visual representation\n",
    "\n",
    "fig, (ax1, ax2) = plt.subplots(2, 1, figsize=(12, 15), sharex=True)\n",
    "\n",
    "# Time vs Junction_Temps\n",
    "\n",
    "ax1.plot(df['Time'], df['Junction_Temps'], color='red')\n",
    "ax1.set_ylabel('Junction Temperature (°C)')\n",
    "ax1.set_title('Junction Temperature vs Time')\n",
    "ax1.grid(True)\n",
    "\n",
    "# Time vs Power\n",
    "\n",
    "power_mean = df['Power'].mean()\n",
    "power_std = df['Power'].std()\n",
    "y_min = max(df['Power'].min(), power_mean - 3*power_std)\n",
    "y_max = min(df['Power'].max(), power_mean + 3*power_std)\n",
    "\n",
    "ax2.plot(df['Time'], df['Power'], color='green')\n",
    "ax2.set_ylabel('Power (Zoomed)')\n",
    "ax2.set_title('Power vs Time (Zoomed)')\n",
    "ax2.set_ylim(y_min, y_max)\n",
    "ax2.grid(True)\n",
    "\n",
    "# Set the x-axis label for the bottom subplot\n",
    "\n",
    "ax2.set_xlabel('Time (s)')\n",
    "\n",
    "# Adjust layout and display the plot\n",
    "\n",
    "lt.tight_layout()\n",
    "plt.show()"
   ]
  },
  {
   "cell_type": "code",
   "execution_count": null,
   "metadata": {},
   "outputs": [],
   "source": [
    "# Statistics\n",
    "\n",
    "print(f\"Time range: {df['Time'].min()} to {df['Time'].max()} seconds\")\n",
    "print(f\"Junction_Temps range: {df['Junction_Temps'].min():.2f} to {df['Junction_Temps'].max():.2f} °C\")\n",
    "print(f\"Power range: {df['Power'].min():.12f} to {df['Power'].max():.12f}\")"
   ]
  }
 ],
 "metadata": {
  "kernelspec": {
   "display_name": "virenv",
   "language": "python",
   "name": "python3"
  },
  "language_info": {
   "codemirror_mode": {
    "name": "ipython",
    "version": 3
   },
   "file_extension": ".py",
   "mimetype": "text/x-python",
   "name": "python",
   "nbconvert_exporter": "python",
   "pygments_lexer": "ipython3",
   "version": "3.13.2"
  }
 },
 "nbformat": 4,
 "nbformat_minor": 2
}
